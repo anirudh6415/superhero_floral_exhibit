{
 "cells": [
  {
   "cell_type": "code",
   "execution_count": 44,
   "metadata": {},
   "outputs": [],
   "source": [
    "import pandas as pd \n"
   ]
  },
  {
   "cell_type": "code",
   "execution_count": 45,
   "metadata": {},
   "outputs": [],
   "source": [
    "data = pd.read_csv(\"superheroes_data.csv\")"
   ]
  },
  {
   "cell_type": "code",
   "execution_count": 46,
   "metadata": {},
   "outputs": [
    {
     "data": {
      "text/html": [
       "<div>\n",
       "<style scoped>\n",
       "    .dataframe tbody tr th:only-of-type {\n",
       "        vertical-align: middle;\n",
       "    }\n",
       "\n",
       "    .dataframe tbody tr th {\n",
       "        vertical-align: top;\n",
       "    }\n",
       "\n",
       "    .dataframe thead th {\n",
       "        text-align: right;\n",
       "    }\n",
       "</style>\n",
       "<table border=\"1\" class=\"dataframe\">\n",
       "  <thead>\n",
       "    <tr style=\"text-align: right;\">\n",
       "      <th></th>\n",
       "      <th>id</th>\n",
       "      <th>name</th>\n",
       "      <th>intelligence</th>\n",
       "      <th>strength</th>\n",
       "      <th>speed</th>\n",
       "      <th>durability</th>\n",
       "      <th>power</th>\n",
       "      <th>combat</th>\n",
       "      <th>full-name</th>\n",
       "      <th>alter-egos</th>\n",
       "      <th>...</th>\n",
       "      <th>race</th>\n",
       "      <th>height</th>\n",
       "      <th>weight</th>\n",
       "      <th>eye-color</th>\n",
       "      <th>hair-color</th>\n",
       "      <th>occupation</th>\n",
       "      <th>base</th>\n",
       "      <th>group-affiliation</th>\n",
       "      <th>relatives</th>\n",
       "      <th>url</th>\n",
       "    </tr>\n",
       "  </thead>\n",
       "  <tbody>\n",
       "    <tr>\n",
       "      <th>0</th>\n",
       "      <td>1</td>\n",
       "      <td>A-Bomb</td>\n",
       "      <td>38.0</td>\n",
       "      <td>100.0</td>\n",
       "      <td>17.0</td>\n",
       "      <td>80.0</td>\n",
       "      <td>24.0</td>\n",
       "      <td>64.0</td>\n",
       "      <td>Richard Milhouse Jones</td>\n",
       "      <td>No alter egos found.</td>\n",
       "      <td>...</td>\n",
       "      <td>Human</td>\n",
       "      <td>[\"6'8\", '203 cm']</td>\n",
       "      <td>['980 lb', '441 kg']</td>\n",
       "      <td>Yellow</td>\n",
       "      <td>No Hair</td>\n",
       "      <td>Musician, adventurer, author; formerly talk sh...</td>\n",
       "      <td>-</td>\n",
       "      <td>Hulk Family; Excelsior (sponsor), Avengers (ho...</td>\n",
       "      <td>Marlo Chandler-Jones (wife); Polly (aunt); Mrs...</td>\n",
       "      <td>https://www.superherodb.com/pictures2/portrait...</td>\n",
       "    </tr>\n",
       "  </tbody>\n",
       "</table>\n",
       "<p>1 rows × 26 columns</p>\n",
       "</div>"
      ],
      "text/plain": [
       "   id    name  intelligence  strength  speed  durability  power  combat  \\\n",
       "0   1  A-Bomb          38.0     100.0   17.0        80.0   24.0    64.0   \n",
       "\n",
       "                full-name            alter-egos  ...   race  \\\n",
       "0  Richard Milhouse Jones  No alter egos found.  ...  Human   \n",
       "\n",
       "              height                weight eye-color hair-color  \\\n",
       "0  [\"6'8\", '203 cm']  ['980 lb', '441 kg']    Yellow    No Hair   \n",
       "\n",
       "                                          occupation base  \\\n",
       "0  Musician, adventurer, author; formerly talk sh...    -   \n",
       "\n",
       "                                   group-affiliation  \\\n",
       "0  Hulk Family; Excelsior (sponsor), Avengers (ho...   \n",
       "\n",
       "                                           relatives  \\\n",
       "0  Marlo Chandler-Jones (wife); Polly (aunt); Mrs...   \n",
       "\n",
       "                                                 url  \n",
       "0  https://www.superherodb.com/pictures2/portrait...  \n",
       "\n",
       "[1 rows x 26 columns]"
      ]
     },
     "execution_count": 46,
     "metadata": {},
     "output_type": "execute_result"
    }
   ],
   "source": [
    "data.head(1)"
   ]
  },
  {
   "cell_type": "code",
   "execution_count": 47,
   "metadata": {},
   "outputs": [],
   "source": [
    "for index, row in data.iterrows():\n",
    "    # Processing height\n",
    "    height_str = row['height']\n",
    "    # print(height_str)\n",
    "    feet, cm = height_str.split(\",\")\n",
    "    feet = feet.split(\"[\")[1]\n",
    "    cm = cm.split(\" \")[1].split(\"'\")[1]\n",
    "    data.at[index, 'height_in'] = feet\n",
    "    data.at[index, 'height_cm'] = cm\n",
    "\n",
    "    weight_str = row['weight']\n",
    "\n",
    "\n",
    "    lb, kg = weight_str.split(\", \")\n",
    "    lb = lb.split(\" lb'\")[0].split(\"['\")[1]\n",
    "    kg = kg.split(\" kg'\")[0].split(\"'\")[1]\n",
    "\n",
    "    data.at[index, 'weight_lb'] = lb\n",
    "    data.at[index, 'weight_kg'] = kg"
   ]
  },
  {
   "cell_type": "code",
   "execution_count": 52,
   "metadata": {},
   "outputs": [],
   "source": [
    "# data.to_csv(\"superheroes_data_new.csv\",index=False)\n",
    "import re\n",
    "def extract_year(text):\n",
    "    # Use regex to find a four-digit number (year) in the text\n",
    "    match = re.search(r'\\b(\\d{4})\\b', text)\n",
    "    return int(match.group(1)) if match else None\n",
    "\n",
    "# Apply the function to extract the year\n",
    "data['first_appearance_year'] = data['first-appearance'].apply(extract_year)"
   ]
  },
  {
   "cell_type": "code",
   "execution_count": 65,
   "metadata": {},
   "outputs": [
    {
     "data": {
      "text/plain": [
       "array(['Human', 'Icthyo Sapien', 'Ungaran', 'Human / Radiation',\n",
       "       'Cosmic Entity', nan, 'Cyborg', 'Xenomorph XX121', 'Android',\n",
       "       'Vampire', 'Mutant', 'God / Eternal', 'Symbiote', 'Atlantean',\n",
       "       'Alien', 'Neyaphem', 'New God', 'Alpha', 'Bizarro', 'Inhuman',\n",
       "       'Metahuman', 'Demon', 'Human / Clone', 'Human-Kree',\n",
       "       'Dathomirian Zabrak', 'Amazon', 'Human / Cosmic',\n",
       "       'Human / Altered', 'Kryptonian', 'Kakarantharaian', 'Black Racer',\n",
       "       'Zen-Whoberian', 'Strontian', 'Kaiju', 'Saiyan', 'Gorilla',\n",
       "       'Rodian', 'Flora Colossus', 'Human-Vuldarian', 'Asgardian',\n",
       "       'Demi-God', 'Eternal', 'Gungan', 'Bolovaxian', 'Animal',\n",
       "       'Czarnian', 'Martian', 'Spartoi', 'Planet', 'Luphomoid',\n",
       "       'Parademon', 'Yautja', 'Maiar', 'Clone', 'Talokite', 'Korugaran',\n",
       "       'Zombie', 'Human-Vulcan', 'Human-Spartoi', 'Tamaranean',\n",
       "       'Frost Giant', 'Mutant / Clone', \"Yoda's species\"], dtype=object)"
      ]
     },
     "execution_count": 65,
     "metadata": {},
     "output_type": "execute_result"
    }
   ],
   "source": [
    "data['race'].unique()"
   ]
  },
  {
   "cell_type": "code",
   "execution_count": 54,
   "metadata": {},
   "outputs": [],
   "source": [
    "data['weight_lb'] = pd.to_numeric(data['weight_lb'], errors='coerce')\n",
    "df_cleaned = data[data['weight_lb'] > 0]\n",
    "df_cleaned.to_csv(\"superheroes_data_new.csv\",index=False)"
   ]
  },
  {
   "cell_type": "code",
   "execution_count": null,
   "metadata": {},
   "outputs": [
    {
     "data": {
      "text/plain": [
       "array(['Marvel Comics', 'Dark Horse Comics', 'DC Comics', 'NBC - Heroes',\n",
       "       'Sharon Carter', 'Wildstorm', 'Archangel', 'Tempest',\n",
       "       'Image Comics', 'Giant-Man', 'Toxin', 'Angel', 'Speedy', nan,\n",
       "       'Goliath', 'Spectre', 'Oracle', 'Hawkfire', 'Huntress', 'Misfit',\n",
       "       'Spoiler', 'Nightwing', 'Icon Comics', 'SyFy', 'Captain Marvel',\n",
       "       'Hanna-Barbera', 'Vertigo II', 'George Lucas', 'Meltdown',\n",
       "       'Gemini V', 'Team Epic TV', 'South Park', 'Binary',\n",
       "       'HarperCollins', 'ABC Studios', 'Universal Studios', 'Star Trek',\n",
       "       'Evil Deadpool', 'IDW Publishing', 'Deadpool', 'Black Racer',\n",
       "       'Speed Demon', 'Impulse', 'Ant-Man', 'Shueisha', 'Atlas',\n",
       "       'Hawkeye', 'Sony Pictures', 'J. K. Rowling', 'Batgirl III',\n",
       "       'Flash IV', 'Titan Books', 'Phoenix', 'Liberty Belle II',\n",
       "       'Power Woman', 'Rebellion', 'Iron Lad', 'Power Man', 'Microsoft',\n",
       "       'Boom-Boom', 'Batgirl V', 'She-Thing', 'Batman II', 'Batgirl',\n",
       "       'Speedball', 'Jean Grey', 'Luke Cage', 'Robin II', 'Robin III',\n",
       "       'Red Hood', 'Red Robin', 'J. R. R. Tolkien', 'Spider-Carnage',\n",
       "       'Venom III', 'Ms Marvel II', 'Aztar', 'Penance II', 'Arsenal',\n",
       "       'Scarlet Spider', 'Superman Prime One-Million', 'Angel Salvadore',\n",
       "       'Rune King Thor', 'Warpath', 'Anti-Venom', 'Scorpion',\n",
       "       'Blaquesmith', 'Vindicator II', 'Anti-Vision', 'Thunderbird II'],\n",
       "      dtype=object)"
      ]
     },
     "execution_count": 57,
     "metadata": {},
     "output_type": "execute_result"
    }
   ],
   "source": []
  },
  {
   "cell_type": "code",
   "execution_count": null,
   "metadata": {},
   "outputs": [],
   "source": []
  }
 ],
 "metadata": {
  "kernelspec": {
   "display_name": "Python 3",
   "language": "python",
   "name": "python3"
  },
  "language_info": {
   "codemirror_mode": {
    "name": "ipython",
    "version": 3
   },
   "file_extension": ".py",
   "mimetype": "text/x-python",
   "name": "python",
   "nbconvert_exporter": "python",
   "pygments_lexer": "ipython3",
   "version": "3.9.9"
  }
 },
 "nbformat": 4,
 "nbformat_minor": 2
}
